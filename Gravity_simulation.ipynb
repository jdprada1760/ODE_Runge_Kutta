{
 "metadata": {
  "name": "",
  "signature": "sha256:3df01d84f5dcd229e54dc201d0a2e6b1ca630f9405b76e8fbcb19ac5da514540"
 },
 "nbformat": 3,
 "nbformat_minor": 0,
 "worksheets": [
  {
   "cells": [
    {
     "cell_type": "code",
     "collapsed": false,
     "input": [
      "%pylab\n",
      "import matplotlib.animation as animation\n",
      "import seaborn as sns"
     ],
     "language": "python",
     "metadata": {},
     "outputs": [
      {
       "output_type": "stream",
       "stream": "stdout",
       "text": [
        "Using matplotlib backend: TkAgg\n",
        "Populating the interactive namespace from numpy and matplotlib\n"
       ]
      }
     ],
     "prompt_number": 11
    },
    {
     "cell_type": "code",
     "collapsed": false,
     "input": [
      "data1 = loadtxt('3bodyProblem_1.data')\n",
      "data2 = loadtxt('3bodyProblem_2.data')\n",
      "data3 = loadtxt('3bodyProblem_3.data')"
     ],
     "language": "python",
     "metadata": {},
     "outputs": [],
     "prompt_number": 5
    },
    {
     "cell_type": "code",
     "collapsed": false,
     "input": [
      "data1x = data1.T[1]\n",
      "data1y = data1.T[2]\n",
      "data2x = data2.T[1]\n",
      "data2y = data2.T[2]\n",
      "data3x = data3.T[1]\n",
      "data3y = data3.T[2]\n",
      "d1 = np.array([ data1x , data1y ])\n",
      "d2 = np.array([ data2x , data2y ])\n",
      "d3 = np.array([ data3x , data3y ])"
     ],
     "language": "python",
     "metadata": {},
     "outputs": [],
     "prompt_number": 6
    },
    {
     "cell_type": "code",
     "collapsed": false,
     "input": [
      "scatter(data1x[0:2000],data1y[0:2000], c = 'b', alpha = 0.1)\n",
      "scatter(data2x[0:2000],data2y[0:2000], c = 'r', alpha = 0.1)\n",
      "scatter(data3x[0:2000],data3y[0:2000], c = 'y', alpha = 0.1)"
     ],
     "language": "python",
     "metadata": {},
     "outputs": [
      {
       "metadata": {},
       "output_type": "pyout",
       "prompt_number": 28,
       "text": [
        "<matplotlib.collections.PathCollection at 0xcef7e50>"
       ]
      }
     ],
     "prompt_number": 28
    },
    {
     "cell_type": "code",
     "collapsed": false,
     "input": [
      "'''\n",
      "fig = plt.figure()\n",
      "lim = 150\n",
      "ax = plt.axes(xlim=(-lim, lim), ylim=(-lim, lim))\n",
      "line, = ax.plot([], [], lw=2)\n",
      "def init():\n",
      "    line.set_data([], [])\n",
      "    return line,\n",
      "\n",
      "def animate(i):\n",
      "    x = np.array([data1x[i],data2x[i],data3x[i]])\n",
      "    y = np.array([data1y[i],data2y[i],data3y[i]])\n",
      "    line.set_data(x, y)\n",
      "    return line,\n",
      "\n",
      "anim = animation.FuncAnimation(fig, animate, init_func=init,\n",
      "                               frames=10000, interval=1, blit=True)\n",
      "'''"
     ],
     "language": "python",
     "metadata": {},
     "outputs": [],
     "prompt_number": 26
    },
    {
     "cell_type": "code",
     "collapsed": false,
     "input": [
      "#Simulacion con scatter (FUNCIONA)\n",
      "def animate(i,fig,scat):\n",
      "    scat.set_offsets(([data1x[i],data1y[i]],[data2x[i],data2y[i]],[data3x[i],data3y[i]]))\n",
      "    return scat,\n",
      "fig = plt.figure()\n",
      "lim = 200\n",
      "ax = fig.add_subplot(111)\n",
      "ax.grid(True, linestyle = '-', color = '0.75')\n",
      "ax.set_xlim([-lim,lim])\n",
      "ax.set_ylim([-lim,lim])\n",
      "x = np.array([data1x[0],data2x[0],data3x[0]])\n",
      "y = np.array([data1y[0],data2y[0],data3y[0]])\n",
      "scat = plt.scatter(x,y, s = 100, c = y/10)\n",
      "plt.cla()\n",
      "scat.set_alpha(0.7)\n",
      "#scat = plt.scatter(data2x[0],data2y[0], s = 50, c = 'r', alpha = 0.4)\n",
      "#scat = plt.scatter(data3x[0],data3y[0], s = 50, c = 'r', alpha = 0.4)\n",
      "\n",
      "anim = animation.FuncAnimation(fig, animate, fargs = (fig, scat),\n",
      "                               frames=50000, interval=0.1, blit=True)\n",
      "plt.show()"
     ],
     "language": "python",
     "metadata": {},
     "outputs": [],
     "prompt_number": 48
    },
    {
     "cell_type": "code",
     "collapsed": false,
     "input": [],
     "language": "python",
     "metadata": {},
     "outputs": []
    }
   ],
   "metadata": {}
  }
 ]
}