{
 "metadata": {
  "name": "",
  "signature": "sha256:8132bb1b1d70bc96265bda84bd5f099e97371be905d7eabb00ee32263e271f0f"
 },
 "nbformat": 3,
 "nbformat_minor": 0,
 "worksheets": [
  {
   "cells": [
    {
     "cell_type": "code",
     "collapsed": false,
     "input": [
      "%pylab inline\n",
      "import scipy\n",
      "import collections"
     ],
     "language": "python",
     "metadata": {},
     "outputs": [
      {
       "output_type": "stream",
       "stream": "stdout",
       "text": [
        "Populating the interactive namespace from numpy and matplotlib\n"
       ]
      }
     ],
     "prompt_number": 2
    },
    {
     "cell_type": "code",
     "collapsed": false,
     "input": [
      "datos1 = loadtxt('data.dat')\n",
      "datos = []\n",
      "i  = j = 0\n",
      "for i in range(3):\n",
      "    randVec = 10*np.random.random(2)\n",
      "    for j in range(20):\n",
      "        datos.append(randVec + 1 -2*np.random.random(2))\n",
      "        \n",
      "datos = np.array(datos)\n",
      "scatter(datos.T[0], datos.T[1])\n",
      "shape(datos)"
     ],
     "language": "python",
     "metadata": {},
     "outputs": [
      {
       "metadata": {},
       "output_type": "pyout",
       "prompt_number": 3,
       "text": [
        "(60, 2)"
       ]
      },
      {
       "metadata": {},
       "output_type": "display_data",
       "png": "[encoded data removed]",
       "text": [
        "<matplotlib.figure.Figure at 0x2c878d0>"
       ]
      }
     ],
     "prompt_number": 3
    },
    {
     "cell_type": "code",
     "collapsed": false,
     "input": [
      "def clustering( nClusters, data ):\n",
      "    i = j = 0\n",
      "    dim = len(data[0])\n",
      "    muestra = len(data)\n",
      "    arrayClusters = [[] for i in range(nClusters)]\n",
      "    clusterPoints = 10*np.random.random((nClusters, dim))\n",
      "    print shape(clusterPoints), len(clusterPoints[0])\n",
      "    termino = False\n",
      "    while termino == False :\n",
      "        arrayClusters = [[] for i in range(nClusters)]\n",
      "        i = 0\n",
      "        for i in range(muestra):\n",
      "            dmin = np.linalg.norm(data[i] - clusterPoints[0])\n",
      "            nmin = 0\n",
      "            for j in range(1, nClusters):\n",
      "                n = np.linalg.norm(data[i] - clusterPoints[j])\n",
      "                if n < dmin:\n",
      "                    dmin = n\n",
      "                    nmin = j\n",
      "            if len(arrayClusters[nmin]) == 0:\n",
      "                arrayClusters[nmin] = [data[i]]\n",
      "            else:\n",
      "                arrayClusters[nmin].append(data[i])\n",
      "        k = 0\n",
      "        newClusters = np.array([np.mean(np.array(arrayClusters)[k], linspace(0,dim, 1)) for k in range(nClusters)])\n",
      "        k = 0\n",
      "        trueValue = False\n",
      "        try:\n",
      "            arrayV = array([[set(newClusters[k]) == set(clusterPoints[k])] for k in range(nClusters)])\n",
      "            trueValue = arrayV.all()\n",
      "        except TypeError:\n",
      "            trueValue = False\n",
      "        if trueValue:\n",
      "             termino = trueValue\n",
      "        else:\n",
      "             clusterPoints = newClusters\n",
      "            \n",
      "    return [arrayClusters, clusterPoints]\n",
      "        "
     ],
     "language": "python",
     "metadata": {},
     "outputs": [],
     "prompt_number": 6
    },
    {
     "cell_type": "code",
     "collapsed": false,
     "input": [],
     "language": "python",
     "metadata": {},
     "outputs": [],
     "prompt_number": 6
    },
    {
     "cell_type": "code",
     "collapsed": false,
     "input": [
      "clusteringT = clustering(2, datos1)\n",
      "cluster1 = np.array(clusteringT[0][0])\n",
      "cluster2 = np.array(clusteringT[0][1])\n",
      "center1 = clusteringT[1][0]\n",
      "center2 = clusteringT[1][1]\n",
      "\n",
      "scatter(cluster1.T[0], cluster1.T[1], s = 50, marker = 'o', c = 'r', alpha = 0.5 )\n",
      "scatter(cluster2.T[0], cluster2.T[1], s = 50, marker = '^', c = 'b', alpha = 0.3)\n",
      "scatter(center1.T[0], center1.T[1], s = 100, marker = 'o', c = 'r')\n",
      "scatter(center2.T[0], center2.T[1], s = 100, marker = '^', c = 'b')"
     ],
     "language": "python",
     "metadata": {},
     "outputs": [
      {
       "output_type": "stream",
       "stream": "stdout",
       "text": [
        "(2, 2) 2\n"
       ]
      },
      {
       "metadata": {},
       "output_type": "pyout",
       "prompt_number": 7,
       "text": [
        "<matplotlib.collections.PathCollection at 0x2f97b50>"
       ]
      },
      {
       "metadata": {},
       "output_type": "display_data",
       "png": "[encoded data removed]",
       "text": [
        "<matplotlib.figure.Figure at 0x2d34f90>"
       ]
      }
     ],
     "prompt_number": 7
    },
    {
     "cell_type": "code",
     "collapsed": false,
     "input": [
      "#Calcula la desviaci\u00f3n estandar de un cluster respecto a su centro\n",
      "def distProm(data, center):\n",
      "    i = j = 0\n",
      "    dim = len(data[0])\n",
      "    muestra = len(data)\n",
      "    suma = 0\n",
      "    count = 0\n",
      "    for i in range(muestra):\n",
      "        suma += np.linalg.norm(data[i]-center)\n",
      "        count += 1\n",
      "    \n",
      "    return suma/count    "
     ],
     "language": "python",
     "metadata": {},
     "outputs": [],
     "prompt_number": 8
    },
    {
     "cell_type": "code",
     "collapsed": false,
     "input": [
      "#Primero se calculan 2 clusters\n",
      "clusters2 = clustering(2, datos1)\n",
      "#Se miran los promedios de distancia en cada cluster\n",
      "prom_2_1 = distProm(np.array(clusters2[0][0]), clusters2[1][0])\n",
      "prom_2_2 = distProm(np.array(clusters2[0][1]), clusters2[1][1])\n",
      "print \"Con 2 Clusters\\n\\nDesviaci\u00f3n est\u00e1ndar del Cluster1\"\n",
      "print prom_2_1\n",
      "print \"\\nDesviaci\u00f3n est\u00e1ndar del Cluster2\"\n",
      "print prom_2_2\n",
      "print \"\\nDesviaci\u00f3n est\u00e1ndar promedio\"\n",
      "print (prom_2_1 + prom_2_2)/2"
     ],
     "language": "python",
     "metadata": {},
     "outputs": [
      {
       "output_type": "stream",
       "stream": "stdout",
       "text": [
        "(2, 2) 2\n",
        "Con 2 Clusters\n",
        "\n",
        "Desviaci\u00f3n est\u00e1ndar del Cluster1\n",
        "1.36982843164\n",
        "\n",
        "Desviaci\u00f3n est\u00e1ndar del Cluster2\n",
        "1.1063797749\n",
        "\n",
        "Desviaci\u00f3n est\u00e1ndar promedio\n",
        "1.23810410327\n"
       ]
      }
     ],
     "prompt_number": 13
    },
    {
     "cell_type": "code",
     "collapsed": false,
     "input": [
      "#La desviaci\u00f3n est\u00e1ndar total de la muestra (Como si hubiera un Cluster)\n",
      "desvest = distProm(datos1, datos1.mean(axis = 0))\n",
      "print \"Desviaci\u00f3n est\u00e1ndar total de la muestra\"\n",
      "print desvest "
     ],
     "language": "python",
     "metadata": {},
     "outputs": [
      {
       "output_type": "stream",
       "stream": "stdout",
       "text": [
        "Desviaci\u00f3n est\u00e1ndar total de la muestra\n",
        "6.85622061089\n"
       ]
      }
     ],
     "prompt_number": 14
    },
    {
     "cell_type": "code",
     "collapsed": false,
     "input": [],
     "language": "python",
     "metadata": {},
     "outputs": []
    }
   ],
   "metadata": {}
  }
 ]
}