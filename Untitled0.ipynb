{
 "metadata": {
  "name": "",
  "signature": "sha256:1371cdcdcdf3e6b7a25d3d268e9759edd67892fb80a1a18d837d0f73be60426c"
 },
 "nbformat": 3,
 "nbformat_minor": 0,
 "worksheets": [
  {
   "cells": [
    {
     "cell_type": "code",
     "collapsed": false,
     "input": [
      "%pylab"
     ],
     "language": "python",
     "metadata": {},
     "outputs": [
      {
       "output_type": "stream",
       "stream": "stdout",
       "text": [
        "Using matplotlib backend: TkAgg\n",
        "Populating the interactive namespace from numpy and matplotlib\n"
       ]
      }
     ],
     "prompt_number": 7
    },
    {
     "cell_type": "code",
     "collapsed": false,
     "input": [
      "data1 = loadtxt('3bodyProblem_1.data')\n",
      "data2 = loadtxt('3bodyProblem_2.data')\n",
      "data3 = loadtxt('3bodyProblem_3.data')"
     ],
     "language": "python",
     "metadata": {},
     "outputs": [],
     "prompt_number": 23
    },
    {
     "cell_type": "code",
     "collapsed": false,
     "input": [
      "data1x = data1.T[1]\n",
      "data1y = data1.T[2]\n",
      "data2x = data2.T[1]\n",
      "data2y = data2.T[2]\n",
      "data3x = data3.T[1]\n",
      "data3y = data3.T[2]"
     ],
     "language": "python",
     "metadata": {},
     "outputs": [],
     "prompt_number": 24
    },
    {
     "cell_type": "code",
     "collapsed": false,
     "input": [
      "scatter(data1x[0:10],data1y[0:10])\n",
      "scatter(data2x[0:10],data2y[0:10])\n",
      "scatter(data3x[0:10],data3y[0:10])"
     ],
     "language": "python",
     "metadata": {},
     "outputs": [
      {
       "metadata": {},
       "output_type": "pyout",
       "prompt_number": 31,
       "text": [
        "<matplotlib.collections.PathCollection at 0x59af1d0>"
       ]
      }
     ],
     "prompt_number": 31
    },
    {
     "cell_type": "code",
     "collapsed": false,
     "input": [],
     "language": "python",
     "metadata": {},
     "outputs": []
    }
   ],
   "metadata": {}
  }
 ]
}